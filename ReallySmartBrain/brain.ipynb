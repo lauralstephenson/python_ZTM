{
 "cells": [
  {
   "cell_type": "code",
   "execution_count": 3,
   "id": "5f7a6c47-bc6b-4c25-848d-00a7d4fb51ee",
   "metadata": {
    "tags": []
   },
   "outputs": [
    {
     "ename": "ModuleNotFoundError",
     "evalue": "No module named 'imageai'",
     "output_type": "error",
     "traceback": [
      "\u001b[1;31m---------------------------------------------------------------------------\u001b[0m",
      "\u001b[1;31mModuleNotFoundError\u001b[0m                       Traceback (most recent call last)",
      "Cell \u001b[1;32mIn[3], line 3\u001b[0m\n\u001b[0;32m      1\u001b[0m \u001b[38;5;66;03m# New Version:\u001b[39;00m\n\u001b[0;32m      2\u001b[0m \u001b[38;5;66;03m# imageai.Prediction no longer exists, replaced by imageai.Classification\u001b[39;00m\n\u001b[1;32m----> 3\u001b[0m \u001b[38;5;28;01mfrom\u001b[39;00m \u001b[38;5;21;01mimageai\u001b[39;00m\u001b[38;5;21;01m.\u001b[39;00m\u001b[38;5;21;01mClassification\u001b[39;00m \u001b[38;5;28;01mimport\u001b[39;00m ImageClassification\n\u001b[0;32m      4\u001b[0m \u001b[38;5;28;01mimport\u001b[39;00m \u001b[38;5;21;01mos\u001b[39;00m\n\u001b[0;32m      6\u001b[0m exec_path \u001b[38;5;241m=\u001b[39m os\u001b[38;5;241m.\u001b[39mgetcwd()\n",
      "\u001b[1;31mModuleNotFoundError\u001b[0m: No module named 'imageai'"
     ]
    }
   ],
   "source": [
    "# New Version:\n",
    "# imageai.Prediction no longer exists, replaced by imageai.Classification\n",
    "from imageai.Classification import ImageClassification\n",
    "import os\n",
    "\n",
    "exec_path = os.getcwd()\n",
    "\n",
    "prediction = ImageClassification()\n",
    "# SqueezeNet model also no longer exists, now the fastest is MobileNetV2\n",
    "prediction.setModelTypeAsMobileNetV2()\n",
    "prediction.setModelPath(os.path.join(exec_path, 'mobilenet_v2-b0353104.pth'))\n",
    "prediction.loadModel()\n",
    "\n",
    "predictions, probabilities = prediction.classifyImage(os.path.join(exec_path,'house.jpg'), result_count=5)\n",
    "for eachPred, eachProb in zip(predictions, probabilities):\n",
    "    print(f'{eachPred} : {eachProb}')\n"
   ]
  },
  {
   "cell_type": "code",
   "execution_count": null,
   "id": "2a5cc1e2-14f6-443d-808f-e72ba498c04d",
   "metadata": {},
   "outputs": [],
   "source": []
  }
 ],
 "metadata": {
  "kernelspec": {
   "display_name": "Python 3 (ipykernel)",
   "language": "python",
   "name": "python3"
  },
  "language_info": {
   "codemirror_mode": {
    "name": "ipython",
    "version": 3
   },
   "file_extension": ".py",
   "mimetype": "text/x-python",
   "name": "python",
   "nbconvert_exporter": "python",
   "pygments_lexer": "ipython3",
   "version": "3.11.5"
  }
 },
 "nbformat": 4,
 "nbformat_minor": 5
}
